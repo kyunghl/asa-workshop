{
 "cells": [
  {
   "cell_type": "markdown",
   "id": "42c33797-8541-49d7-bfdc-599c6275e403",
   "metadata": {},
   "source": [
    "# Lexical Search 실습\n",
    "\n",
    "### 목차\n",
    "\n",
    "- **[준비](#준비)**\n",
    "  1. [Collection 생성](#1.-Collection-생성)\n",
    "  2. [Dashboard 접속](#1.-Dashboard-접속)\n",
    "- **[실습](#실습)**\n",
    "  1. [기본 설정 (nori 미사용)](#1.-기본-설정-(nori-미사용))\n",
    "  2. [nori 미사용 시 한글 검색의 문제점](#2.-nori-미사용-시-한글-검색의-문제점)\n",
    "  3. [nori 형태소 분석기 적용](#3.-nori-형태소-분석기-적용)\n",
    "  4. [nori 사용 시 한글 검색 개선 확인](#4.-nori-사용-시-한글-검색-개선-확인)\n",
    "  5. [nori 사용 시에도 발생하는 한계점 탐색](#5.-nori-사용-시에도-발생하는-한계점-탐색)\n",
    "  6. [동의어 사전 사용](#6.-동의어-사전-사용)\n",
    "- **[결론](#결론)**"
   ]
  },
  {
   "cell_type": "markdown",
   "id": "4d9959eb-7c4f-477d-9cce-8bc1156fa455",
   "metadata": {},
   "source": [
    "## 준비"
   ]
  },
  {
   "cell_type": "markdown",
   "id": "7cdfce45-c4cc-4b49-a7af-09b22d7f4b0f",
   "metadata": {},
   "source": [
    "### 1. Collection 생성"
   ]
  },
  {
   "cell_type": "markdown",
   "id": "75cb56ef-a89e-4606-b3cb-ac1c157fe62b",
   "metadata": {
    "tags": []
   },
   "source": [
    "- AWS 콘솔에서 [OpenSearch](https://us-west-2.console.aws.amazon.com/aos/home?region=us-west-2#opensearch/collections)로 이동\n",
    "- 좌측 네비게이션 메뉴에서 **`Serverless > Collections`** 으로 이동\n",
    "- **Create collection** 버튼 클릭\n",
    "  - Collection 이름: lexical-search\n",
    "  - Collection 타입: Search\n",
    "  - Security: Easy create\n",
    "  - 나머지는 기본값으로 유지하고 **Next** 클릭\n",
    "  - 내용을 리뷰하고 **Submit** 클릭\n",
    "- 약 3분가량 기다리면 생성 완료"
   ]
  },
  {
   "cell_type": "markdown",
   "id": "6dafdc78-9f26-4b43-8370-63e56193e08e",
   "metadata": {},
   "source": [
    "### 2. Dashboard 접속"
   ]
  },
  {
   "cell_type": "markdown",
   "id": "326dc612-7ba9-4764-89fa-d0cc0e7828f5",
   "metadata": {},
   "source": [
    "- Collection 목록에서 방금 생성한 lexical-search 클릭\n",
    "- **Manage network access** 클릭\n",
    "- easy-lexical-search를 선택하고 **Edit** 클릭\n",
    "- 아래쪽 **Enable access to OpenSearch Dashboards** 선택\n",
    "- Search collection(s), or input specific prefix term(s)에서 `Collection Name = lexical-search` 추가\n",
    "- **Update** 버튼 클릭\n",
    "- 잠시 기다린 후, Collection 목록에서 **Dashboard** 링크를 클릭해서 Dashboard로 이동"
   ]
  },
  {
   "cell_type": "markdown",
   "id": "12754ab4-16ef-48e5-94e0-7899c9e27495",
   "metadata": {},
   "source": [
    "## 실습"
   ]
  },
  {
   "cell_type": "markdown",
   "id": "83bac536-bd96-48c5-be72-3894433341e3",
   "metadata": {},
   "source": [
    "### 1. 기본 설정 (nori 미사용)"
   ]
  },
  {
   "cell_type": "markdown",
   "id": "50806109-e587-41be-b925-2fcf64304f1f",
   "metadata": {},
   "source": [
    "```es\n",
    "PUT /korean-test\n",
    "{\n",
    "  \"settings\": {\n",
    "    \"analysis\": {\n",
    "      \"analyzer\": {\n",
    "        \"default\": {\n",
    "          \"type\": \"standard\"\n",
    "        }\n",
    "      }\n",
    "    }\n",
    "  },\n",
    "  \"mappings\": {\n",
    "    \"properties\": {\n",
    "      \"text\": {\n",
    "        \"type\": \"text\"\n",
    "      }\n",
    "    }\n",
    "  }\n",
    "}\n",
    "```"
   ]
  },
  {
   "cell_type": "markdown",
   "id": "809ca28b-1e9a-410b-a12e-b034746e26da",
   "metadata": {},
   "source": [
    "```\n",
    "POST /korean-test/_doc\n",
    "{\n",
    "  \"text\": \"오늘은 날씨가 좋아서 공원에 산책을 갔습니다.\"\n",
    "}\n",
    "\n",
    "POST /korean-test/_doc\n",
    "{\n",
    "  \"text\": \"내일은 비가 온다고 합니다.\"\n",
    "}\n",
    "```"
   ]
  },
  {
   "cell_type": "markdown",
   "id": "269feee5-cfb6-41a5-b91e-3e108f909709",
   "metadata": {},
   "source": [
    "### 2. nori 미사용 시 한글 검색의 문제점"
   ]
  },
  {
   "cell_type": "markdown",
   "id": "8d28d979-358d-45b5-85ae-d4c2aa3ad458",
   "metadata": {},
   "source": [
    "```\n",
    "GET /korean-test/_analyze\n",
    "{\n",
    "  \"analyzer\": \"standard\",\n",
    "  \"text\": \"오늘은 날씨가 좋아서 공원에 산책을 갔습니다.\"\n",
    "}\n",
    "```"
   ]
  },
  {
   "cell_type": "markdown",
   "id": "3353ed4d-d038-4723-91bd-018224e7cbba",
   "metadata": {},
   "source": [
    "```\n",
    "GET /korean-test/_search\n",
    "{\n",
    "  \"query\": {\n",
    "    \"match\": {\n",
    "      \"text\": \"날씨가\"\n",
    "    }\n",
    "  }\n",
    "}\n",
    "```"
   ]
  },
  {
   "cell_type": "markdown",
   "id": "31bc7727-bb2c-4311-8ecc-8eafc584e8ed",
   "metadata": {},
   "source": [
    "```\n",
    "GET /korean-test/_search\n",
    "{\n",
    "  \"query\": {\n",
    "    \"match\": {\n",
    "      \"text\": \"날씨\"\n",
    "    }\n",
    "  }\n",
    "}\n",
    "```"
   ]
  },
  {
   "cell_type": "markdown",
   "id": "5ca4700a-a4cf-44b1-90d8-efc09b1b998f",
   "metadata": {},
   "source": [
    "```\n",
    "GET /korean-test/_search\n",
    "{\n",
    "  \"query\": {\n",
    "    \"match\": {\n",
    "      \"text\": \"좋은 날씨\"\n",
    "    }\n",
    "  }\n",
    "}\n",
    "```"
   ]
  },
  {
   "cell_type": "markdown",
   "id": "672756c7-fbb8-4b88-a8f6-aec2c3451e7c",
   "metadata": {},
   "source": [
    "### 3. nori 형태소 분석기 적용"
   ]
  },
  {
   "cell_type": "markdown",
   "id": "873f05ff-6f57-4946-9742-ff3965bf1f4a",
   "metadata": {},
   "source": [
    "```\n",
    "PUT /korean-test-nori\n",
    "{\n",
    "  \"settings\": {\n",
    "    \"analysis\": {\n",
    "      \"analyzer\": {\n",
    "        \"my_nori_analyzer\": {\n",
    "          \"type\": \"custom\",\n",
    "          \"tokenizer\": \"nori_tokenizer\",\n",
    "          \"filter\": [\n",
    "            \"lowercase\",\n",
    "            \"nori_part_of_speech\"\n",
    "          ]\n",
    "        }\n",
    "      }\n",
    "    }\n",
    "  },\n",
    "  \"mappings\": {\n",
    "    \"properties\": {\n",
    "      \"text\": {\n",
    "        \"type\": \"text\",\n",
    "        \"analyzer\": \"my_nori_analyzer\"\n",
    "      }\n",
    "    }\n",
    "  }\n",
    "}\n",
    "```"
   ]
  },
  {
   "cell_type": "markdown",
   "id": "19793e8d-fa60-406a-9bb8-d4c077f87e96",
   "metadata": {},
   "source": [
    "```\n",
    "POST /korean-test-nori/_doc\n",
    "{\n",
    "  \"text\": \"오늘은 날씨가 좋아서 공원에 산책을 갔습니다.\"\n",
    "}\n",
    "\n",
    "POST /korean-test-nori/_doc\n",
    "{\n",
    "  \"text\": \"내일은 비가 온다고 합니다.\"\n",
    "}\n",
    "```"
   ]
  },
  {
   "cell_type": "markdown",
   "id": "f23056cb-0f66-4e89-b2d6-93e0877247d8",
   "metadata": {},
   "source": [
    "### 4. nori 사용 시 한글 검색 개선 확인"
   ]
  },
  {
   "cell_type": "markdown",
   "id": "d7045af5-5208-4bed-808b-af0ee4713f4d",
   "metadata": {},
   "source": [
    "```\n",
    "GET /korean-test-nori/_analyze\n",
    "{\n",
    "  \"analyzer\": \"nori_analyzer\",\n",
    "  \"text\": \"오늘은 날씨가 좋아서 공원에 산책을 갔습니다.\"\n",
    "}\n",
    "```"
   ]
  },
  {
   "cell_type": "markdown",
   "id": "e2f0b1fc-534b-423c-89db-ac4bb22a6dbe",
   "metadata": {},
   "source": [
    "```\n",
    "GET /korean-test-nori/_search\n",
    "{\n",
    "  \"query\": {\n",
    "    \"match\": {\n",
    "      \"text\": \"날씨가\"\n",
    "    }\n",
    "  }\n",
    "}\n",
    "```"
   ]
  },
  {
   "cell_type": "markdown",
   "id": "03a54f99-f21b-4240-a7f1-2b54214f9a85",
   "metadata": {},
   "source": [
    "```\n",
    "GET /korean-test-nori/_search\n",
    "{\n",
    "  \"query\": {\n",
    "    \"match\": {\n",
    "      \"text\": \"날씨\"\n",
    "    }\n",
    "  }\n",
    "}\n",
    "```"
   ]
  },
  {
   "cell_type": "markdown",
   "id": "13d40a52-0d66-45a4-8ad0-10c0259bf7c1",
   "metadata": {},
   "source": [
    "```\n",
    "GET /korean-test-nori/_search\n",
    "{\n",
    "  \"query\": {\n",
    "    \"match\": {\n",
    "      \"text\": \"좋은 날씨\"\n",
    "    }\n",
    "  }\n",
    "}\n",
    "```"
   ]
  },
  {
   "cell_type": "markdown",
   "id": "75f03b7f-a980-46f1-9396-2769663a1c1e",
   "metadata": {},
   "source": [
    "### 5. nori 사용 시에도 발생하는 한계점 탐색"
   ]
  },
  {
   "cell_type": "markdown",
   "id": "41cbd58f-01ff-448b-9e13-2491f20929f1",
   "metadata": {},
   "source": [
    "```\n",
    "POST /korean-test-nori/_doc\n",
    "{\n",
    "  \"text\": \"그는 책을 읽었다.\"\n",
    "}\n",
    "\n",
    "POST /korean-test-nori/_doc\n",
    "{\n",
    "  \"text\": \"그녀는 독서를 했다.\"\n",
    "}\n",
    "```"
   ]
  },
  {
   "cell_type": "markdown",
   "id": "3b0d8b09-e27b-472f-9755-3d35deb5dcfc",
   "metadata": {},
   "source": [
    "```\n",
    "GET /korean-test-nori/_analyze\n",
    "{\n",
    "  \"analyzer\": \"nori_analyzer\",\n",
    "  \"text\": \"그는 책을 읽었다.\"\n",
    "}\n",
    "```"
   ]
  },
  {
   "cell_type": "markdown",
   "id": "a5647387-7300-4b4b-b6fe-3bb3e527b0e0",
   "metadata": {},
   "source": [
    "```\n",
    "GET /korean-test-nori/_analyze\n",
    "{\n",
    "  \"analyzer\": \"nori_analyzer\",\n",
    "  \"text\": \"그녀는 독서를 했다.\"\n",
    "}\n",
    "```"
   ]
  },
  {
   "cell_type": "markdown",
   "id": "4b7a55f7-8f61-44ad-8a94-229a24bd3ac7",
   "metadata": {},
   "source": [
    "```\n",
    "GET /korean-test-nori/_search\n",
    "{\n",
    "  \"query\": {\n",
    "    \"match\": {\n",
    "      \"text\": \"독서\"\n",
    "    }\n",
    "  }\n",
    "}\n",
    "```"
   ]
  },
  {
   "cell_type": "markdown",
   "id": "ab40ae49-5ee7-4eb4-ab04-34c333adffe6",
   "metadata": {},
   "source": [
    "```\n",
    "GET /korean-test-nori/_search\n",
    "{\n",
    "  \"query\": {\n",
    "    \"match\": {\n",
    "      \"text\": \"책 읽기\"\n",
    "    }\n",
    "  }\n",
    "}\n",
    "```"
   ]
  },
  {
   "cell_type": "markdown",
   "id": "fa8afa48-e560-449b-a899-15724b9da99c",
   "metadata": {},
   "source": [
    "### 6. 동의어 사전 사용"
   ]
  },
  {
   "cell_type": "markdown",
   "id": "bb863b70-4ff4-4dcb-9bef-718a14906885",
   "metadata": {},
   "source": [
    "```\n",
    "PUT /korean-test-improved\n",
    "{\n",
    "  \"settings\": {\n",
    "    \"analysis\": {\n",
    "      \"analyzer\": {\n",
    "        \"nori_synonym_analyzer\": {\n",
    "          \"tokenizer\": \"nori_tokenizer\",\n",
    "          \"filter\": [\n",
    "            \"nori_part_of_speech\",\n",
    "            \"synonym_filter\"\n",
    "          ]\n",
    "        }\n",
    "      },\n",
    "      \"filter\": {\n",
    "        \"synonym_filter\": {\n",
    "          \"type\": \"synonym\",\n",
    "          \"synonyms\": [\n",
    "            \"책 읽기, 독서, 독해\"\n",
    "          ]\n",
    "        }\n",
    "      }\n",
    "    }\n",
    "  },\n",
    "  \"mappings\": {\n",
    "    \"properties\": {\n",
    "      \"text\": {\n",
    "        \"type\": \"text\",\n",
    "        \"analyzer\": \"nori_synonym_analyzer\"\n",
    "      }\n",
    "    }\n",
    "  }\n",
    "}\n",
    "```"
   ]
  },
  {
   "cell_type": "markdown",
   "id": "87f0b125-a597-4b5a-8266-c6565159be98",
   "metadata": {},
   "source": [
    "```\n",
    "POST /korean-test-improved/_doc\n",
    "{\n",
    "  \"text\": \"그는 책을 읽었다.\"\n",
    "}\n",
    "\n",
    "POST /korean-test-improved/_doc\n",
    "{\n",
    "  \"text\": \"그녀는 독서를 했다.\"\n",
    "}\n",
    "```"
   ]
  },
  {
   "cell_type": "markdown",
   "id": "0c6e9dd9-04ad-4034-baf3-382e443d909f",
   "metadata": {},
   "source": [
    "```\n",
    "GET /korean-test-improved/_search\n",
    "{\n",
    "  \"query\": {\n",
    "    \"match\": {\n",
    "      \"text\": \"책 읽기\"\n",
    "    }\n",
    "  }\n",
    "}\n",
    "```"
   ]
  },
  {
   "cell_type": "markdown",
   "id": "60d84c97-c5d1-4cf6-8305-a8a4fbc03a68",
   "metadata": {},
   "source": [
    "## 결론"
   ]
  },
  {
   "cell_type": "markdown",
   "id": "a48adb2c-996c-42e0-84d6-2954d517b700",
   "metadata": {
    "tags": []
   },
   "source": [
    "지금까지 한글 형태소 분석기를 활용해서 한글 검색 성능을 향상시키는 방법을 알아봤습니다. \n",
    "\n",
    "우리가 사용할 수 있는 검색 성능을 향상시킬 수 있는 방법은 매우 다양합니다. 예를 들어 원본 텍스트와 함께 정규화된 형태의 필드를 추가하여 **다중 필터를 사용**함으로써 검색의 유연성을 높일 수 있습니다. 그리고, **n-gram 토큰화**를 사용하면 부분 일치를 허용할 수 있습니다. 이 외에도 **퍼지 검색**을 사용하여 유사한 단어를 허용할 수 있습니다. \n",
    "\n",
    "각 방법은 장단점이 있으므로, 실제 데이터와 요구사항에 맞게 적절히 선택하고 조정해야 합니다."
   ]
  }
 ],
 "metadata": {
  "kernelspec": {
   "display_name": "conda_pytorch_p310",
   "language": "python",
   "name": "conda_pytorch_p310"
  },
  "language_info": {
   "codemirror_mode": {
    "name": "ipython",
    "version": 3
   },
   "file_extension": ".py",
   "mimetype": "text/x-python",
   "name": "python",
   "nbconvert_exporter": "python",
   "pygments_lexer": "ipython3",
   "version": "3.10.14"
  }
 },
 "nbformat": 4,
 "nbformat_minor": 5
}
